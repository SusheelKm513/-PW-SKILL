{
  "nbformat": 4,
  "nbformat_minor": 0,
  "metadata": {
    "colab": {
      "provenance": []
    },
    "kernelspec": {
      "name": "python3",
      "display_name": "Python 3"
    },
    "language_info": {
      "name": "python"
    }
  },
  "cells": [
    {
      "cell_type": "code",
      "execution_count": null,
      "metadata": {
        "id": "cWlCPKB6iA5n"
      },
      "outputs": [],
      "source": [
        "#   Q1.\n",
        "string = \"susheel\"\n",
        "list = [1,2,3,\"susheel\",45.89]\n",
        "float = 45.23\n",
        "tuple = (3,2,4,\"sush\",56.32,[\"susheel\",45,69.23])"
      ]
    },
    {
      "cell_type": "code",
      "source": [
        "# Q2.\n",
        "var1=''   #this is string\n",
        "var2=\"[DS,ML,Python]\"  #this is string\n",
        "var3=['DS','ML','Python']  #this is list\n",
        "var4=1  #this is integer"
      ],
      "metadata": {
        "id": "t_y6xMwJizUH"
      },
      "execution_count": null,
      "outputs": []
    },
    {
      "cell_type": "code",
      "source": [
        "#Q3.\n",
        "5/4  # this is devision operator\n",
        "\n",
        "\n",
        "\n"
      ],
      "metadata": {
        "id": "Sb_ZrywjizWz",
        "colab": {
          "base_uri": "https://localhost:8080/"
        },
        "outputId": "220815da-4f89-4a8d-9847-99a06b05c297"
      },
      "execution_count": null,
      "outputs": [
        {
          "output_type": "execute_result",
          "data": {
            "text/plain": [
              "1.25"
            ]
          },
          "metadata": {},
          "execution_count": 7
        }
      ]
    },
    {
      "cell_type": "code",
      "source": [
        "5%4 # this is modulo operator which give reminder"
      ],
      "metadata": {
        "id": "I8A5LTJPizZq",
        "colab": {
          "base_uri": "https://localhost:8080/"
        },
        "outputId": "1dbafb38-3496-40d0-9782-452cbfbfc283"
      },
      "execution_count": null,
      "outputs": [
        {
          "output_type": "execute_result",
          "data": {
            "text/plain": [
              "1"
            ]
          },
          "metadata": {},
          "execution_count": 8
        }
      ]
    },
    {
      "cell_type": "code",
      "source": [
        "5//4 # this is floor operator which give us obdient"
      ],
      "metadata": {
        "id": "GS00IDOkizcL",
        "colab": {
          "base_uri": "https://localhost:8080/"
        },
        "outputId": "9f68023c-0449-4320-8296-da5e7103ebf9"
      },
      "execution_count": null,
      "outputs": [
        {
          "output_type": "execute_result",
          "data": {
            "text/plain": [
              "1"
            ]
          },
          "metadata": {},
          "execution_count": 9
        }
      ]
    },
    {
      "cell_type": "code",
      "source": [
        "2**4 #this is squre operator which give us squre"
      ],
      "metadata": {
        "id": "vDIzL7puizeo",
        "colab": {
          "base_uri": "https://localhost:8080/"
        },
        "outputId": "a7f5a262-04b7-4fe4-a329-5b9366dba1ce"
      },
      "execution_count": null,
      "outputs": [
        {
          "output_type": "execute_result",
          "data": {
            "text/plain": [
              "16"
            ]
          },
          "metadata": {},
          "execution_count": 10
        }
      ]
    },
    {
      "cell_type": "code",
      "source": [
        "#Q4.\n",
        "list = [2,3,4,5,\"susheel\",12.52,\"pw\"]\n",
        "for i in list:\n",
        "  print(i)\n",
        "\n",
        "  print(type(i))\n"
      ],
      "metadata": {
        "id": "ZDxgyswlizhP",
        "colab": {
          "base_uri": "https://localhost:8080/"
        },
        "outputId": "b1b78261-d51c-429f-ec79-1e18989c4f59"
      },
      "execution_count": null,
      "outputs": [
        {
          "output_type": "stream",
          "name": "stdout",
          "text": [
            "2\n",
            "<class 'int'>\n",
            "3\n",
            "<class 'int'>\n",
            "4\n",
            "<class 'int'>\n",
            "5\n",
            "<class 'int'>\n",
            "susheel\n",
            "<class 'str'>\n",
            "12.52\n",
            "<class 'float'>\n",
            "pw\n",
            "<class 'str'>\n"
          ]
        }
      ]
    },
    {
      "cell_type": "code",
      "source": [
        "#Q5.\n",
        "def count_divisions(A, B):\n",
        "    if B == 0:\n",
        "        raise ValueError(\"Number B cannot be zero.\")\n",
        "\n",
        "    count = 0\n",
        "    while A % B == 0:\n",
        "\n",
        "        A = A // B\n",
        "        count += 1\n",
        "    return count\n",
        "\n",
        "number_A = int(input(\"Enter the number A: \"))\n",
        "number_B = int(input(\"Enter the number B: \"))\n",
        "\n",
        "try:\n",
        "    result = count_divisions(number_A, number_B)\n",
        "    print(f\"{number_A} is divisible by {number_B} {result} times.\")\n",
        "except ValueError as e:\n",
        "    print(e)\n",
        "\n",
        "\n",
        "\n",
        "\n",
        "\n"
      ],
      "metadata": {
        "id": "K2XB-iBEizkE",
        "colab": {
          "base_uri": "https://localhost:8080/"
        },
        "outputId": "9c85ef82-51cb-4f61-dc20-ada444f0d396"
      },
      "execution_count": null,
      "outputs": [
        {
          "output_type": "stream",
          "name": "stdout",
          "text": [
            "Enter the number A: 45\n",
            "Enter the number B: 6\n",
            "45 is divisible by 6 0 times.\n"
          ]
        }
      ]
    },
    {
      "cell_type": "code",
      "source": [
        "#Q6.\n",
        "\n",
        "list = [3,4,6,8,9,12,15,18,21,5,7,24,27,30,33,36,39,42,45,44,34,56,66,99,96]\n",
        "for i in list:\n",
        "  if i%3==0:\n",
        "    print(f'{i} is divisible by 3')\n",
        "  else:\n",
        "    print(f'{i} is not divisible by 3')\n",
        "\n"
      ],
      "metadata": {
        "id": "dNwBozHcEwVk",
        "colab": {
          "base_uri": "https://localhost:8080/"
        },
        "outputId": "5e5e0b77-f375-4d23-cbed-f446a817e5e2"
      },
      "execution_count": null,
      "outputs": [
        {
          "output_type": "stream",
          "name": "stdout",
          "text": [
            "3 is divisible by 3\n",
            "4 is not divisible by 3\n",
            "6 is divisible by 3\n",
            "8 is not divisible by 3\n",
            "9 is divisible by 3\n",
            "12 is divisible by 3\n",
            "15 is divisible by 3\n",
            "18 is divisible by 3\n",
            "21 is divisible by 3\n",
            "5 is not divisible by 3\n",
            "7 is not divisible by 3\n",
            "24 is divisible by 3\n",
            "27 is divisible by 3\n",
            "30 is divisible by 3\n",
            "33 is divisible by 3\n",
            "36 is divisible by 3\n",
            "39 is divisible by 3\n",
            "42 is divisible by 3\n",
            "45 is divisible by 3\n",
            "44 is not divisible by 3\n",
            "34 is not divisible by 3\n",
            "56 is not divisible by 3\n",
            "66 is divisible by 3\n",
            "99 is divisible by 3\n",
            "96 is divisible by 3\n"
          ]
        }
      ]
    },
    {
      "cell_type": "code",
      "source": [
        "# Q7.\n",
        "\n",
        "# Mutable datatype means that datatype which we can change their element.\n",
        "#  EX.- STRING..\n",
        "str = \"susheel\"\n",
        "# Immutable datatype means that datatype which we can't change their element.\n",
        "#  EX.-LIST\n",
        "list = [2,3,4,5,\"susheel\"]\n",
        "\n"
      ],
      "metadata": {
        "id": "ui5NiEggEwYW"
      },
      "execution_count": 7,
      "outputs": []
    },
    {
      "cell_type": "code",
      "source": [
        "str[0]"
      ],
      "metadata": {
        "id": "ACHpvhZ9Ewa_",
        "colab": {
          "base_uri": "https://localhost:8080/",
          "height": 36
        },
        "outputId": "befbdd27-a92a-4a31-b2b8-8cf9846b48fe"
      },
      "execution_count": 15,
      "outputs": [
        {
          "output_type": "execute_result",
          "data": {
            "text/plain": [
              "'s'"
            ],
            "application/vnd.google.colaboratory.intrinsic+json": {
              "type": "string"
            }
          },
          "metadata": {},
          "execution_count": 15
        }
      ]
    },
    {
      "cell_type": "code",
      "source": [
        "str[0]=k"
      ],
      "metadata": {
        "id": "rsdKM9SaEweD",
        "colab": {
          "base_uri": "https://localhost:8080/",
          "height": 165
        },
        "outputId": "bb8b4d8a-07de-4da9-f3ed-816813260fca"
      },
      "execution_count": 16,
      "outputs": [
        {
          "output_type": "error",
          "ename": "NameError",
          "evalue": "ignored",
          "traceback": [
            "\u001b[0;31m---------------------------------------------------------------------------\u001b[0m",
            "\u001b[0;31mNameError\u001b[0m                                 Traceback (most recent call last)",
            "\u001b[0;32m<ipython-input-16-4d8646f8c31a>\u001b[0m in \u001b[0;36m<cell line: 1>\u001b[0;34m()\u001b[0m\n\u001b[0;32m----> 1\u001b[0;31m \u001b[0mstr\u001b[0m\u001b[0;34m[\u001b[0m\u001b[0;36m0\u001b[0m\u001b[0;34m]\u001b[0m\u001b[0;34m=\u001b[0m\u001b[0mk\u001b[0m\u001b[0;34m\u001b[0m\u001b[0;34m\u001b[0m\u001b[0m\n\u001b[0m",
            "\u001b[0;31mNameError\u001b[0m: name 'k' is not defined"
          ]
        }
      ]
    },
    {
      "cell_type": "code",
      "source": [
        "list[2]"
      ],
      "metadata": {
        "id": "JfxuxyK6Ewhk",
        "colab": {
          "base_uri": "https://localhost:8080/"
        },
        "outputId": "81cb03f3-5204-489c-8df1-02fcd05fbe8b"
      },
      "execution_count": 17,
      "outputs": [
        {
          "output_type": "execute_result",
          "data": {
            "text/plain": [
              "4"
            ]
          },
          "metadata": {},
          "execution_count": 17
        }
      ]
    },
    {
      "cell_type": "code",
      "source": [
        "list[2]=\"pw skills\""
      ],
      "metadata": {
        "id": "KuvPar91izsM"
      },
      "execution_count": 18,
      "outputs": []
    },
    {
      "cell_type": "code",
      "source": [
        "list"
      ],
      "metadata": {
        "id": "8IHUA1dqizu6",
        "colab": {
          "base_uri": "https://localhost:8080/"
        },
        "outputId": "aed5e593-136a-485e-a685-3c4f20640885"
      },
      "execution_count": 19,
      "outputs": [
        {
          "output_type": "execute_result",
          "data": {
            "text/plain": [
              "[2, 3, 'pw skills', 5, 'susheel']"
            ]
          },
          "metadata": {},
          "execution_count": 19
        }
      ]
    },
    {
      "cell_type": "code",
      "source": [],
      "metadata": {
        "id": "hL7tn3I0izxk"
      },
      "execution_count": null,
      "outputs": []
    },
    {
      "cell_type": "code",
      "source": [],
      "metadata": {
        "id": "SPMHJF6viz0I"
      },
      "execution_count": null,
      "outputs": []
    },
    {
      "cell_type": "code",
      "source": [],
      "metadata": {
        "id": "utDai7Uhiz2n"
      },
      "execution_count": null,
      "outputs": []
    },
    {
      "cell_type": "code",
      "source": [],
      "metadata": {
        "id": "JWzwlSJ2iz5V"
      },
      "execution_count": null,
      "outputs": []
    },
    {
      "cell_type": "code",
      "source": [],
      "metadata": {
        "id": "s0CEcHL9iz8B"
      },
      "execution_count": null,
      "outputs": []
    },
    {
      "cell_type": "code",
      "source": [],
      "metadata": {
        "id": "eIDDxKB2iz-5"
      },
      "execution_count": null,
      "outputs": []
    },
    {
      "cell_type": "code",
      "source": [],
      "metadata": {
        "id": "_GxjKGiEi0BY"
      },
      "execution_count": null,
      "outputs": []
    },
    {
      "cell_type": "code",
      "source": [],
      "metadata": {
        "id": "TmJut9Qhi0EF"
      },
      "execution_count": null,
      "outputs": []
    },
    {
      "cell_type": "code",
      "source": [],
      "metadata": {
        "id": "B-YTZf1Ki0G5"
      },
      "execution_count": null,
      "outputs": []
    },
    {
      "cell_type": "code",
      "source": [],
      "metadata": {
        "id": "gB78WkF4i0Jp"
      },
      "execution_count": null,
      "outputs": []
    },
    {
      "cell_type": "code",
      "source": [],
      "metadata": {
        "id": "Z1ciei8Ci0MU"
      },
      "execution_count": null,
      "outputs": []
    },
    {
      "cell_type": "code",
      "source": [],
      "metadata": {
        "id": "n6xWvLPxi0PC"
      },
      "execution_count": null,
      "outputs": []
    },
    {
      "cell_type": "code",
      "source": [],
      "metadata": {
        "id": "lkYI_4bei0Rr"
      },
      "execution_count": null,
      "outputs": []
    },
    {
      "cell_type": "code",
      "source": [],
      "metadata": {
        "id": "HeuYGKihi0Us"
      },
      "execution_count": null,
      "outputs": []
    },
    {
      "cell_type": "code",
      "source": [],
      "metadata": {
        "id": "qKPyZzlWi0Xi"
      },
      "execution_count": null,
      "outputs": []
    },
    {
      "cell_type": "code",
      "source": [],
      "metadata": {
        "id": "YiNROIkYi0aG"
      },
      "execution_count": null,
      "outputs": []
    },
    {
      "cell_type": "code",
      "source": [],
      "metadata": {
        "id": "ohCfmxfJi0c1"
      },
      "execution_count": null,
      "outputs": []
    },
    {
      "cell_type": "code",
      "source": [],
      "metadata": {
        "id": "-Rp2ZsBqi0f5"
      },
      "execution_count": null,
      "outputs": []
    },
    {
      "cell_type": "code",
      "source": [],
      "metadata": {
        "id": "zPOGWRzui0id"
      },
      "execution_count": null,
      "outputs": []
    },
    {
      "cell_type": "code",
      "source": [],
      "metadata": {
        "id": "R7qpmh9Xi0lH"
      },
      "execution_count": null,
      "outputs": []
    },
    {
      "cell_type": "code",
      "source": [],
      "metadata": {
        "id": "sS4AuvRti0ny"
      },
      "execution_count": null,
      "outputs": []
    },
    {
      "cell_type": "code",
      "source": [],
      "metadata": {
        "id": "xaRvB6jVi0q2"
      },
      "execution_count": null,
      "outputs": []
    },
    {
      "cell_type": "code",
      "source": [],
      "metadata": {
        "id": "v1_0A-l-i0tp"
      },
      "execution_count": null,
      "outputs": []
    },
    {
      "cell_type": "code",
      "source": [],
      "metadata": {
        "id": "Wz_09BVoi0wQ"
      },
      "execution_count": null,
      "outputs": []
    },
    {
      "cell_type": "code",
      "source": [],
      "metadata": {
        "id": "7nkQ86H8i0zF"
      },
      "execution_count": null,
      "outputs": []
    },
    {
      "cell_type": "code",
      "source": [],
      "metadata": {
        "id": "s7oVnn0ni02I"
      },
      "execution_count": null,
      "outputs": []
    },
    {
      "cell_type": "code",
      "source": [],
      "metadata": {
        "id": "77XeXxhzi041"
      },
      "execution_count": null,
      "outputs": []
    },
    {
      "cell_type": "code",
      "source": [],
      "metadata": {
        "id": "VJK2NrpRi07l"
      },
      "execution_count": null,
      "outputs": []
    },
    {
      "cell_type": "code",
      "source": [],
      "metadata": {
        "id": "se7gqjdMi0-R"
      },
      "execution_count": null,
      "outputs": []
    },
    {
      "cell_type": "code",
      "source": [],
      "metadata": {
        "id": "2ahGDQBfi1BM"
      },
      "execution_count": null,
      "outputs": []
    },
    {
      "cell_type": "code",
      "source": [],
      "metadata": {
        "id": "4THUVmuri1EB"
      },
      "execution_count": null,
      "outputs": []
    },
    {
      "cell_type": "code",
      "source": [],
      "metadata": {
        "id": "r4bBdrvGi1G2"
      },
      "execution_count": null,
      "outputs": []
    },
    {
      "cell_type": "code",
      "source": [],
      "metadata": {
        "id": "JEC9LJ3wi1JX"
      },
      "execution_count": null,
      "outputs": []
    },
    {
      "cell_type": "code",
      "source": [],
      "metadata": {
        "id": "oF4k1MtZi1MF"
      },
      "execution_count": null,
      "outputs": []
    },
    {
      "cell_type": "code",
      "source": [],
      "metadata": {
        "id": "jhqC7WTii1O4"
      },
      "execution_count": null,
      "outputs": []
    },
    {
      "cell_type": "code",
      "source": [],
      "metadata": {
        "id": "KO68720mi1Rv"
      },
      "execution_count": null,
      "outputs": []
    },
    {
      "cell_type": "code",
      "source": [],
      "metadata": {
        "id": "8F4FaJeki1UU"
      },
      "execution_count": null,
      "outputs": []
    },
    {
      "cell_type": "code",
      "source": [],
      "metadata": {
        "id": "6fbhe3Rki1XC"
      },
      "execution_count": null,
      "outputs": []
    },
    {
      "cell_type": "code",
      "source": [],
      "metadata": {
        "id": "cDri9Joli1Z2"
      },
      "execution_count": null,
      "outputs": []
    },
    {
      "cell_type": "code",
      "source": [],
      "metadata": {
        "id": "o8HvZdgbi1cc"
      },
      "execution_count": null,
      "outputs": []
    },
    {
      "cell_type": "code",
      "source": [],
      "metadata": {
        "id": "HMOTohD0i1fS"
      },
      "execution_count": null,
      "outputs": []
    },
    {
      "cell_type": "code",
      "source": [],
      "metadata": {
        "id": "VFcofB8Hi1hs"
      },
      "execution_count": null,
      "outputs": []
    },
    {
      "cell_type": "code",
      "source": [],
      "metadata": {
        "id": "YwwrkzuQi1kf"
      },
      "execution_count": null,
      "outputs": []
    },
    {
      "cell_type": "code",
      "source": [],
      "metadata": {
        "id": "r0JcTxezi1nT"
      },
      "execution_count": null,
      "outputs": []
    },
    {
      "cell_type": "code",
      "source": [],
      "metadata": {
        "id": "vSgqyz8ui1p7"
      },
      "execution_count": null,
      "outputs": []
    },
    {
      "cell_type": "code",
      "source": [],
      "metadata": {
        "id": "vJofxJW5i1sq"
      },
      "execution_count": null,
      "outputs": []
    },
    {
      "cell_type": "code",
      "source": [],
      "metadata": {
        "id": "w8mjNN6Di1vW"
      },
      "execution_count": null,
      "outputs": []
    },
    {
      "cell_type": "code",
      "source": [],
      "metadata": {
        "id": "7o_cWDJSi1x9"
      },
      "execution_count": null,
      "outputs": []
    },
    {
      "cell_type": "code",
      "source": [],
      "metadata": {
        "id": "m_Eo9Rd0i10s"
      },
      "execution_count": null,
      "outputs": []
    },
    {
      "cell_type": "code",
      "source": [],
      "metadata": {
        "id": "27YmFtbPi13Z"
      },
      "execution_count": null,
      "outputs": []
    },
    {
      "cell_type": "code",
      "source": [],
      "metadata": {
        "id": "bH9y2ZoTi16P"
      },
      "execution_count": null,
      "outputs": []
    },
    {
      "cell_type": "code",
      "source": [],
      "metadata": {
        "id": "HVDvl-bfi186"
      },
      "execution_count": null,
      "outputs": []
    },
    {
      "cell_type": "code",
      "source": [],
      "metadata": {
        "id": "LJdt-qdxi1_z"
      },
      "execution_count": null,
      "outputs": []
    },
    {
      "cell_type": "code",
      "source": [],
      "metadata": {
        "id": "tr28skx7i2Ck"
      },
      "execution_count": null,
      "outputs": []
    },
    {
      "cell_type": "code",
      "source": [],
      "metadata": {
        "id": "FfLVufX_i2Ff"
      },
      "execution_count": null,
      "outputs": []
    },
    {
      "cell_type": "code",
      "source": [],
      "metadata": {
        "id": "prYfF_Hki2II"
      },
      "execution_count": null,
      "outputs": []
    },
    {
      "cell_type": "code",
      "source": [],
      "metadata": {
        "id": "4TsLlCVMi2K6"
      },
      "execution_count": null,
      "outputs": []
    },
    {
      "cell_type": "code",
      "source": [],
      "metadata": {
        "id": "wb5WUIWNi2NS"
      },
      "execution_count": null,
      "outputs": []
    },
    {
      "cell_type": "code",
      "source": [],
      "metadata": {
        "id": "F2hg6LQ8i2QS"
      },
      "execution_count": null,
      "outputs": []
    },
    {
      "cell_type": "code",
      "source": [
        "# Q1.\n",
        "string = \"susheel\"\n",
        "list = [1,2,3,4,5,\"SUSHEEL\",25.89]\n",
        "float = 23.54\n",
        "tuple = [2,3,4,\"suseel\",35.25]\n"
      ],
      "metadata": {
        "id": "SOKL26xmi2S0"
      },
      "execution_count": null,
      "outputs": []
    },
    {
      "cell_type": "code",
      "source": [
        "# Q2.\n",
        "var1=''  #this is string\n",
        "var2='[DS,ML,python]'  #this is string\n",
        "var3=['DS','ML','python']  #this is list\n",
        "var4=1  #this is integer\n"
      ],
      "metadata": {
        "id": "K0hDhFC0i2Vi"
      },
      "execution_count": null,
      "outputs": []
    },
    {
      "cell_type": "code",
      "source": [
        "# Q3.\n",
        "5/4  #this is division operator"
      ],
      "metadata": {
        "colab": {
          "base_uri": "https://localhost:8080/"
        },
        "id": "FSuachLpi2X6",
        "outputId": "20740c0f-634a-4255-ebae-e940708aba5d"
      },
      "execution_count": null,
      "outputs": [
        {
          "output_type": "execute_result",
          "data": {
            "text/plain": [
              "1.25"
            ]
          },
          "metadata": {},
          "execution_count": 21
        }
      ]
    },
    {
      "cell_type": "code",
      "source": [
        "6%5   #this is modulo operator which give us reminder"
      ],
      "metadata": {
        "colab": {
          "base_uri": "https://localhost:8080/"
        },
        "id": "s-unKOQBi2a7",
        "outputId": "ffb14556-d69e-48b9-d272-962b1a775318"
      },
      "execution_count": null,
      "outputs": [
        {
          "output_type": "execute_result",
          "data": {
            "text/plain": [
              "1"
            ]
          },
          "metadata": {},
          "execution_count": 22
        }
      ]
    },
    {
      "cell_type": "code",
      "source": [
        "6//2  #this is floor division operator which give us quotient"
      ],
      "metadata": {
        "colab": {
          "base_uri": "https://localhost:8080/"
        },
        "id": "IdMAANSFi2dN",
        "outputId": "052fcfcc-fb1a-4f9b-d614-33d12ce62bb9"
      },
      "execution_count": null,
      "outputs": [
        {
          "output_type": "execute_result",
          "data": {
            "text/plain": [
              "3"
            ]
          },
          "metadata": {},
          "execution_count": 23
        }
      ]
    },
    {
      "cell_type": "code",
      "source": [
        "2**3  #this is square operator"
      ],
      "metadata": {
        "colab": {
          "base_uri": "https://localhost:8080/"
        },
        "id": "oKdze0DXi2f9",
        "outputId": "82354cd2-5bab-46ab-c0f2-534ddd28b0da"
      },
      "execution_count": null,
      "outputs": [
        {
          "output_type": "execute_result",
          "data": {
            "text/plain": [
              "8"
            ]
          },
          "metadata": {},
          "execution_count": 24
        }
      ]
    },
    {
      "cell_type": "code",
      "source": [
        "#Q4.\n"
      ],
      "metadata": {
        "id": "ALrq2y-gi2iq"
      },
      "execution_count": null,
      "outputs": []
    },
    {
      "cell_type": "code",
      "source": [],
      "metadata": {
        "id": "q9MJlkp3i2lk"
      },
      "execution_count": null,
      "outputs": []
    },
    {
      "cell_type": "code",
      "source": [],
      "metadata": {
        "id": "rQfICQpli2oE"
      },
      "execution_count": null,
      "outputs": []
    },
    {
      "cell_type": "code",
      "source": [],
      "metadata": {
        "id": "UOvFUrfmi2qY"
      },
      "execution_count": null,
      "outputs": []
    },
    {
      "cell_type": "code",
      "source": [],
      "metadata": {
        "id": "R-lJQtTRi2t0"
      },
      "execution_count": null,
      "outputs": []
    },
    {
      "cell_type": "code",
      "source": [],
      "metadata": {
        "id": "1pcv-2P5ivYn"
      },
      "execution_count": null,
      "outputs": []
    }
  ]
}