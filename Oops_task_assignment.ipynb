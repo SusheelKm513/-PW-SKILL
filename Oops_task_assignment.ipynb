{
  "nbformat": 4,
  "nbformat_minor": 0,
  "metadata": {
    "colab": {
      "provenance": []
    },
    "kernelspec": {
      "name": "python3",
      "display_name": "Python 3"
    },
    "language_info": {
      "name": "python"
    }
  },
  "cells": [
    {
      "cell_type": "code",
      "execution_count": null,
      "metadata": {
        "id": "RxBimuNY8wuy"
      },
      "outputs": [],
      "source": [
        "# Q1. Create a vehicle class with an init method having instance variables as name_of_vehicle, max_speed and average_of_vehicle."
      ]
    },
    {
      "cell_type": "code",
      "source": [
        "class vehicle :\n",
        "  def __init__(self, name_of_vehicle,max_speed, average_of_vehicle) :\n",
        "\n",
        "    self.name_of_vehicle = name_of_vehicle\n",
        "    self.max_speed = max_speed\n",
        "    self.average_of_vehicle = average_of_vehicle\n",
        "\n"
      ],
      "metadata": {
        "id": "uPzmSonHvYUY"
      },
      "execution_count": null,
      "outputs": []
    },
    {
      "cell_type": "code",
      "source": [
        "v = vehicle(\"toyota\", 80, 40)"
      ],
      "metadata": {
        "id": "jGTEGW6y4LbZ"
      },
      "execution_count": null,
      "outputs": []
    },
    {
      "cell_type": "code",
      "source": [
        "v.max_speed"
      ],
      "metadata": {
        "colab": {
          "base_uri": "https://localhost:8080/"
        },
        "id": "TZ_2fWBF4eBp",
        "outputId": "15d22850-0e80-44ac-a393-8eb8af5832d8"
      },
      "execution_count": null,
      "outputs": [
        {
          "output_type": "execute_result",
          "data": {
            "text/plain": [
              "80"
            ]
          },
          "metadata": {},
          "execution_count": 22
        }
      ]
    },
    {
      "cell_type": "code",
      "source": [
        "# Q2. Create a child class car from the vehicle class created in Que 1, which will inherit the vehicle class.\n",
        "#  Create a method named seating_capacity which takes capacity as an argument and returns the name of the vehicle and its seating capacity."
      ],
      "metadata": {
        "id": "nYTxx-356MWC"
      },
      "execution_count": null,
      "outputs": []
    },
    {
      "cell_type": "code",
      "source": [
        "class car(vehicle) :\n",
        "\n",
        "  def __init__(self, name_of_vehicle,max_speed, speed):\n",
        "      super().__init__(name_of_vehicle, max_speed, average_of_vehicle)\n",
        "\n",
        "  def seating_capacity(self, capacity):\n",
        "        return f\"The {self.name_of_vehicle} has a seating capacity of {capacity} passengers.\"\n",
        "\n"
      ],
      "metadata": {
        "id": "j_KyiqQr8biG"
      },
      "execution_count": null,
      "outputs": []
    },
    {
      "cell_type": "code",
      "source": [
        "obj_car = Car(\"Toyota\", 150, 30)\n",
        "print(obj_car.seating_capacity(5))"
      ],
      "metadata": {
        "colab": {
          "base_uri": "https://localhost:8080/"
        },
        "id": "mQcYtNPWjnrP",
        "outputId": "90874619-3f79-4f4c-b659-dd6cd366f3a2"
      },
      "execution_count": null,
      "outputs": [
        {
          "output_type": "stream",
          "name": "stdout",
          "text": [
            "The Toyota has a seating capacity of 5 passengers.\n"
          ]
        }
      ]
    },
    {
      "cell_type": "code",
      "source": [
        "# Q3. What is multiple inheritance? Write a python code to demonstrate multiple inheritance.\n",
        "\n",
        "# Ans-Multiple inheritance is a feature in object-oriented programming languages like Python, where a class can inherit attributes and methods from more than one parent class.\n"
      ],
      "metadata": {
        "id": "EjFg098x8bym"
      },
      "execution_count": null,
      "outputs": []
    },
    {
      "cell_type": "code",
      "source": [
        "class sush1:\n",
        "\n",
        "  def sush1(self):\n",
        "    return \"bharat mata koi jai\""
      ],
      "metadata": {
        "id": "NMXaqAsJjmo8"
      },
      "execution_count": null,
      "outputs": []
    },
    {
      "cell_type": "code",
      "source": [
        "class sush2(sush1):\n",
        "\n",
        "  def sush2(self):\n",
        "    return \"pwskill is best\""
      ],
      "metadata": {
        "id": "Pp8o9-Wi8b03"
      },
      "execution_count": null,
      "outputs": []
    },
    {
      "cell_type": "code",
      "source": [
        "class sush3(sush2):\n",
        "\n",
        "  def sush3(self):\n",
        "    pass"
      ],
      "metadata": {
        "id": "Z0i3YDgi8b3Q"
      },
      "execution_count": null,
      "outputs": []
    },
    {
      "cell_type": "code",
      "source": [
        "obj_sush3 = sush3()"
      ],
      "metadata": {
        "id": "klePFDy_iCPO"
      },
      "execution_count": null,
      "outputs": []
    },
    {
      "cell_type": "code",
      "source": [
        "obj_sush3.sush2()"
      ],
      "metadata": {
        "colab": {
          "base_uri": "https://localhost:8080/",
          "height": 36
        },
        "id": "Zpkl0Ly8nw9Y",
        "outputId": "17f93a91-4ced-45bf-ad80-ddb592456bdc"
      },
      "execution_count": null,
      "outputs": [
        {
          "output_type": "execute_result",
          "data": {
            "text/plain": [
              "'pwskill is best'"
            ],
            "application/vnd.google.colaboratory.intrinsic+json": {
              "type": "string"
            }
          },
          "metadata": {},
          "execution_count": 7
        }
      ]
    },
    {
      "cell_type": "code",
      "source": [
        "#  Q4. What are getter and setter in python? Create a class and create a getter and a setter method in this class.\n",
        "\n",
        "#  The main purpose of using getters and setters in object-oriented programs is to ensure data encapsulation."
      ],
      "metadata": {
        "id": "lcrCG27an2Rw"
      },
      "execution_count": null,
      "outputs": []
    },
    {
      "cell_type": "code",
      "source": [
        "class Friend:\n",
        "    def __init__(self):\n",
        "        self.job = \"None\"\n",
        "\n",
        "    def getJob(self):\n",
        "        return self.job\n",
        "\n",
        "    def setJob(self, job):\n",
        "        self.job = job\n",
        "\n",
        "Alice = Friend()\n",
        "Bob = Friend()\n",
        "\n",
        "Alice.setJob(\"Carpenter\")\n",
        "Bob.setJob(\"Builder\")\n",
        "\n",
        "print(Bob.job)\n",
        "print(Alice.job)\n"
      ],
      "metadata": {
        "id": "EEK-OcaUoOO7",
        "colab": {
          "base_uri": "https://localhost:8080/"
        },
        "outputId": "bcf2edd2-8bca-4076-ac48-4d3853c2fb7c"
      },
      "execution_count": 1,
      "outputs": [
        {
          "output_type": "stream",
          "name": "stdout",
          "text": [
            "Builder\n",
            "Carpenter\n"
          ]
        }
      ]
    },
    {
      "cell_type": "code",
      "source": [
        "#  Q5.What is method overriding in python? Write a python code to demonstrate method overriding\n",
        "\n",
        "#  The overriding method allows a child class to provide a specific implementation of a method that is already provided by one of its parent classes.\n"
      ],
      "metadata": {
        "id": "Rc_zd_fQrzI2"
      },
      "execution_count": 3,
      "outputs": []
    },
    {
      "cell_type": "code",
      "source": [
        "class A :\n",
        "  def city(self):\n",
        "    print(\"I live in delhi\")\n",
        "\n",
        "class B(A) :\n",
        "  def city(self):\n",
        "    print(\" I live in mumbai\")"
      ],
      "metadata": {
        "id": "JCOpnLcgswt-"
      },
      "execution_count": 4,
      "outputs": []
    },
    {
      "cell_type": "code",
      "source": [
        "obj_B = B()"
      ],
      "metadata": {
        "id": "Aq_8SmSu0lQK"
      },
      "execution_count": 5,
      "outputs": []
    },
    {
      "cell_type": "code",
      "source": [
        "obj_B.city()"
      ],
      "metadata": {
        "colab": {
          "base_uri": "https://localhost:8080/"
        },
        "id": "6S8u0Ak50qFl",
        "outputId": "67aa3d9e-1692-4a83-9ac9-fa6a303f4bd3"
      },
      "execution_count": 7,
      "outputs": [
        {
          "output_type": "stream",
          "name": "stdout",
          "text": [
            " I live in mumbai\n"
          ]
        }
      ]
    },
    {
      "cell_type": "code",
      "source": [],
      "metadata": {
        "id": "9ErE8mWD0sUL"
      },
      "execution_count": null,
      "outputs": []
    }
  ]
}