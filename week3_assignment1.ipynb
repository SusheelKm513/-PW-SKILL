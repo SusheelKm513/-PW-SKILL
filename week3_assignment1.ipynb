{
  "nbformat": 4,
  "nbformat_minor": 0,
  "metadata": {
    "colab": {
      "provenance": []
    },
    "kernelspec": {
      "name": "python3",
      "display_name": "Python 3"
    },
    "language_info": {
      "name": "python"
    }
  },
  "cells": [
    {
      "cell_type": "code",
      "execution_count": null,
      "metadata": {
        "id": "phVePaJ97NFJ"
      },
      "outputs": [],
      "source": [
        "# Q1. Which keyword is used to create a function? Create a function to return a list of odd numbers in the range of 1 to 25\n",
        "\n",
        "#  solution :- \"def\" keyword use create a function.\n",
        "\n",
        "def sush():\n",
        "  n = 25\n",
        "  m = 1\n",
        "  for i in range(m,n+1,2):\n",
        "    print(i)\n"
      ]
    },
    {
      "cell_type": "markdown",
      "source": [],
      "metadata": {
        "id": "vxUDf_8pFthg"
      }
    },
    {
      "cell_type": "code",
      "source": [
        "sush()"
      ],
      "metadata": {
        "id": "oLK2WKSl7htA",
        "colab": {
          "base_uri": "https://localhost:8080/"
        },
        "outputId": "a5ec1819-49b5-4f06-ede4-0803fb709fd9"
      },
      "execution_count": null,
      "outputs": [
        {
          "output_type": "stream",
          "name": "stdout",
          "text": [
            "1\n",
            "3\n",
            "5\n",
            "7\n",
            "9\n",
            "11\n",
            "13\n",
            "15\n",
            "17\n",
            "19\n",
            "21\n",
            "23\n",
            "25\n"
          ]
        }
      ]
    },
    {
      "cell_type": "code",
      "source": [
        "# Q2. Why *args and **kwargs is used in some functions? Create a function each for *args and **kwargs to demonstrate their use.\n",
        "\n",
        "#   *args-- using this we can pass n number of argument we can pass in filter. it will give us output in tuple form\n",
        "#   **kwargs -- it will take input in key value pair. it will guve us output in dictaunary form.\n",
        "\n"
      ],
      "metadata": {
        "id": "_yWXu68p7hvo"
      },
      "execution_count": null,
      "outputs": []
    },
    {
      "cell_type": "code",
      "source": [
        " def sum_all(*args):\n",
        "    result = 0\n",
        "    for num in args:\n",
        "        result += num\n",
        "    return result"
      ],
      "metadata": {
        "id": "pRAyiEg17hyk"
      },
      "execution_count": null,
      "outputs": []
    },
    {
      "cell_type": "code",
      "source": [
        "sum_all()"
      ],
      "metadata": {
        "id": "jEl4z2v97h1a",
        "colab": {
          "base_uri": "https://localhost:8080/"
        },
        "outputId": "4e1ca933-c678-40be-f3e5-65f1aaaa6055"
      },
      "execution_count": null,
      "outputs": [
        {
          "output_type": "execute_result",
          "data": {
            "text/plain": [
              "0"
            ]
          },
          "metadata": {},
          "execution_count": 3
        }
      ]
    },
    {
      "cell_type": "code",
      "source": [
        "def display_info(**kwargs):\n",
        "    for key, value in kwargs.items():\n",
        "        print(f\"{key}: {value}\")\n",
        "\n",
        "# Using the functions\n",
        "result1 = sum_all(1, 2, 3, 4, 5)\n",
        "print(f\"Sum: {result1}\")\n",
        "\n",
        "info = {\n",
        "    'name': 'John',\n",
        "    'age': 30,\n",
        "    'country': 'USA'\n",
        "}\n",
        "display_info(**info)\n",
        "\n",
        "\n",
        "\n"
      ],
      "metadata": {
        "id": "3lFsaxG87h4x",
        "colab": {
          "base_uri": "https://localhost:8080/"
        },
        "outputId": "1e1bebc0-27d1-465b-c684-eb5b4d4b604b"
      },
      "execution_count": null,
      "outputs": [
        {
          "output_type": "stream",
          "name": "stdout",
          "text": [
            "Sum: 15\n",
            "name: John\n",
            "age: 30\n",
            "country: USA\n"
          ]
        }
      ]
    },
    {
      "cell_type": "code",
      "source": [
        "# Qus-3  What is an iterator in python? Name the method used to initialise the iterator object and the method\n",
        "#  used for iteration. Use these methods to print the first five elements of the given list [2, 4, 6, 8, 10, 12, 14, 16, 18, 20]\n",
        "\n",
        "\"\"\" Ans--An iterator in Python is an object that is used to iterate over iterable objects like lists, tuples, dicts, and sets. The Python iterators object is initialized using the iter() method. It uses the next() method for iteration.\n",
        "\n",
        "_iter__(): The iter() method is called for the initialization of an iterator. This returns an iterator object\n",
        "_next__(): The next method returns the next value for the iterable. When we use a for loop to traverse any iterable object, internally it uses the iter() method to get an iterator object, which further uses the next() method to iterate over.\n",
        "This method raises a StopIteration to signal the end of the iteration.  \"\"\"\n",
        "\n"
      ],
      "metadata": {
        "id": "RCdTu1lp7h_h",
        "colab": {
          "base_uri": "https://localhost:8080/",
          "height": 88
        },
        "outputId": "a26d3e10-4ae8-43b1-ee2d-cf5baac945d7"
      },
      "execution_count": null,
      "outputs": [
        {
          "output_type": "execute_result",
          "data": {
            "text/plain": [
              "' Ans--An iterator in Python is an object that is used to iterate over iterable objects like lists, tuples, dicts, and sets. The Python iterators object is initialized using the iter() method. It uses the next() method for iteration.\\n\\n_iter__(): The iter() method is called for the initialization of an iterator. This returns an iterator object\\n_next__(): The next method returns the next value for the iterable. When we use a for loop to traverse any iterable object, internally it uses the iter() method to get an iterator object, which further uses the next() method to iterate over. \\nThis method raises a StopIteration to signal the end of the iteration.  '"
            ],
            "application/vnd.google.colaboratory.intrinsic+json": {
              "type": "string"
            }
          },
          "metadata": {},
          "execution_count": 11
        }
      ]
    },
    {
      "cell_type": "code",
      "source": [
        "def print_first_n_elements(*args, n=5):\n",
        "    for i in range(n):\n",
        "        if i < len(args):\n",
        "            print(args[i])\n",
        "\n",
        "my_list = [2, 4, 6, 8, 10, 12, 14, 16, 18, 20]\n"
      ],
      "metadata": {
        "id": "aTCgKwBi7iCh"
      },
      "execution_count": null,
      "outputs": []
    },
    {
      "cell_type": "code",
      "source": [
        "print_first_n_elements(*my_list)"
      ],
      "metadata": {
        "id": "qnlnTqVw7iFE",
        "colab": {
          "base_uri": "https://localhost:8080/"
        },
        "outputId": "46403317-d3d5-4f39-90cd-15e963c62cce"
      },
      "execution_count": null,
      "outputs": [
        {
          "output_type": "stream",
          "name": "stdout",
          "text": [
            "2\n",
            "4\n",
            "6\n",
            "8\n",
            "10\n"
          ]
        }
      ]
    },
    {
      "cell_type": "code",
      "source": [
        " # Qus.4   What is a generator function in python? Why yield keyword is used? Give an example of a generator function.\n",
        "  \"\"\"  Ans-- a generator function is a special type of function that allows you to iterate over a potentially large sequence of values without storing them in memory all at once.\n",
        "    Generator functions use the yield keyword instead of return to yield one value at a time to the caller, and they maintain their state between successive calls  \"\"\""
      ],
      "metadata": {
        "id": "lDAONRh07iHj"
      },
      "execution_count": null,
      "outputs": []
    },
    {
      "cell_type": "code",
      "source": [
        "def gen(n):\n",
        "  a,b = 2,1\n",
        "  for i in range(n):\n",
        "    yield a\n",
        "    a,b = a*b , a*b"
      ],
      "metadata": {
        "id": "gAYITR4I7iKZ"
      },
      "execution_count": null,
      "outputs": []
    },
    {
      "cell_type": "code",
      "source": [
        "gen(5)"
      ],
      "metadata": {
        "id": "lXITT93u7iNN",
        "colab": {
          "base_uri": "https://localhost:8080/"
        },
        "outputId": "f9ea2197-76cf-4aa7-c2dd-e1ad7a48023f"
      },
      "execution_count": null,
      "outputs": [
        {
          "output_type": "execute_result",
          "data": {
            "text/plain": [
              "<generator object gen at 0x7cd200d2f4c0>"
            ]
          },
          "metadata": {},
          "execution_count": 28
        }
      ]
    },
    {
      "cell_type": "code",
      "source": [
        "for i in gen(5):\n",
        "  print(i)"
      ],
      "metadata": {
        "id": "gIyibSUY7iQB",
        "colab": {
          "base_uri": "https://localhost:8080/"
        },
        "outputId": "99920e9a-35b9-4d6b-c49f-d0de576c5fd1"
      },
      "execution_count": null,
      "outputs": [
        {
          "output_type": "stream",
          "name": "stdout",
          "text": [
            "2\n",
            "2\n",
            "4\n",
            "16\n",
            "256\n"
          ]
        }
      ]
    },
    {
      "cell_type": "code",
      "source": [
        " # Qus-5 Create a generator function for prime numbers less than 1000. Use the next() method to print the first 20 prime numbers"
      ],
      "metadata": {
        "id": "2KEJRcHM7iS1"
      },
      "execution_count": null,
      "outputs": []
    },
    {
      "cell_type": "code",
      "source": [
        "def is_prime(n):\n",
        "    if n <= 1:\n",
        "        return False\n",
        "    if n == 2:\n",
        "        return True\n",
        "    if n % 2 == 0:\n",
        "        return False\n",
        "\n",
        "    for i in range(3, int(n**0.5) + 1, 2):\n",
        "        if n % i == 0:\n",
        "            return False\n",
        "\n",
        "    return True\n",
        "\n",
        "def generate_primes(limit):\n",
        "    num = 2\n",
        "    count = 0\n",
        "    while num < limit:\n",
        "        if is_prime(num):\n",
        "            yield num\n",
        "            count += 1\n",
        "        num += 1\n",
        "\n",
        "# Create a generator for prime numbers less than 1000\n",
        "prime_generator = generate_primes(1000)\n",
        "\n",
        "# Print the first 20 prime numbers\n",
        "for _ in range(20):\n",
        "    print(next(prime_generator))\n"
      ],
      "metadata": {
        "id": "PQ0qwVC87idy",
        "colab": {
          "base_uri": "https://localhost:8080/"
        },
        "outputId": "bdd466d4-00d4-4172-acdf-1c2c7bbed819"
      },
      "execution_count": null,
      "outputs": [
        {
          "output_type": "stream",
          "name": "stdout",
          "text": [
            "2\n",
            "3\n",
            "5\n",
            "7\n",
            "11\n",
            "13\n",
            "17\n",
            "19\n",
            "23\n",
            "29\n",
            "31\n",
            "37\n",
            "41\n",
            "43\n",
            "47\n",
            "53\n",
            "59\n",
            "61\n",
            "67\n",
            "71\n"
          ]
        }
      ]
    },
    {
      "cell_type": "code",
      "source": [
        "# Qus-6 Write a python program to print the first 10 Fibonacci numbers using a while loop"
      ],
      "metadata": {
        "id": "QUwLeKiS7ign"
      },
      "execution_count": null,
      "outputs": []
    },
    {
      "cell_type": "code",
      "source": [
        "def test_fib1():\n",
        "  a,b = 0,1\n",
        "  while True:\n",
        "    yield a\n",
        "    a,b = b , a+b"
      ],
      "metadata": {
        "id": "sH3pNSw87ijO"
      },
      "execution_count": null,
      "outputs": []
    },
    {
      "cell_type": "code",
      "source": [
        "fib = test_fib1()"
      ],
      "metadata": {
        "id": "lCcT92Li7imQ"
      },
      "execution_count": null,
      "outputs": []
    },
    {
      "cell_type": "code",
      "source": [
        "for i in range(10):\n",
        "  print(next(fib))"
      ],
      "metadata": {
        "id": "9CGkcla77iob",
        "colab": {
          "base_uri": "https://localhost:8080/"
        },
        "outputId": "d3b399bf-1253-4113-d200-f4211f7d50b4"
      },
      "execution_count": null,
      "outputs": [
        {
          "output_type": "stream",
          "name": "stdout",
          "text": [
            "0\n",
            "1\n",
            "1\n",
            "2\n",
            "3\n",
            "5\n",
            "8\n",
            "13\n",
            "21\n",
            "34\n"
          ]
        }
      ]
    },
    {
      "cell_type": "code",
      "source": [
        "# Qus-7   Write a List Comprehension to iterate through the given string: ‘pwskills’.\n",
        "# Expected output: ['p', 'w', 's', 'k', 'i', 'l', 'l', 's']"
      ],
      "metadata": {
        "id": "Skk8hLCK7irU"
      },
      "execution_count": null,
      "outputs": []
    },
    {
      "cell_type": "code",
      "source": [
        "k = \"pwskill\""
      ],
      "metadata": {
        "id": "GmP0nR-U7iuD"
      },
      "execution_count": null,
      "outputs": []
    },
    {
      "cell_type": "code",
      "source": [
        "for i in k:\n",
        "  print(i)"
      ],
      "metadata": {
        "id": "9CeqE8Ak7iwx",
        "colab": {
          "base_uri": "https://localhost:8080/"
        },
        "outputId": "d4333874-58f3-4b39-f04c-0b7ca2afc4c2"
      },
      "execution_count": null,
      "outputs": [
        {
          "output_type": "stream",
          "name": "stdout",
          "text": [
            "p\n",
            "w\n",
            "s\n",
            "k\n",
            "i\n",
            "l\n",
            "l\n"
          ]
        }
      ]
    },
    {
      "cell_type": "code",
      "source": [
        "# Qus-8 Write a python program to check whether a given number is Palindrome or not using a while loop."
      ],
      "metadata": {
        "id": "WQCS6IDI7i0R"
      },
      "execution_count": null,
      "outputs": []
    },
    {
      "cell_type": "code",
      "source": [
        "def is_palindrome(number):\n",
        "    original_number = number\n",
        "    reversed_number = 0\n",
        "\n",
        "    while number > 0:\n",
        "        remainder = number % 10\n",
        "        reversed_number = reversed_number * 10 + remainder\n",
        "        number = number // 10\n",
        "\n",
        "    return original_number == reversed_number\n",
        "\n",
        "# Input a number from the user\n",
        "try:\n",
        "    num = int(input(\"Enter a number: \"))\n",
        "    if is_palindrome(num):\n",
        "        print(f\"{num} is a palindrome.\")\n",
        "    else:\n",
        "        print(f\"{num} is not a palindrome.\")\n",
        "except ValueError:\n",
        "    print(\"Invalid input. Please enter a valid number.\")\n"
      ],
      "metadata": {
        "id": "Yk_CSGnd7jgn",
        "colab": {
          "base_uri": "https://localhost:8080/"
        },
        "outputId": "c34c6e63-2d3c-4584-c6e5-1a3b78519a3d"
      },
      "execution_count": null,
      "outputs": [
        {
          "output_type": "stream",
          "name": "stdout",
          "text": [
            "Enter a number: 46546\n",
            "46546 is not a palindrome.\n"
          ]
        }
      ]
    },
    {
      "cell_type": "code",
      "source": [
        "#Qus-9 Write a code to print odd numbers from 1 to 100 using list comprehension."
      ],
      "metadata": {
        "id": "pBdbJhEM7jlj"
      },
      "execution_count": null,
      "outputs": []
    },
    {
      "cell_type": "code",
      "source": [
        "def odd():\n",
        "  odd_no = [i for i in range(1,101) if i %2 !=0]\n",
        "  for i in odd_no:\n",
        "    print(i)\n",
        "\n",
        "\n",
        "\n"
      ],
      "metadata": {
        "id": "qEhuCP-47jnK"
      },
      "execution_count": 26,
      "outputs": []
    },
    {
      "cell_type": "code",
      "source": [
        "odd()"
      ],
      "metadata": {
        "id": "IvsI0TqH7jql",
        "colab": {
          "base_uri": "https://localhost:8080/"
        },
        "outputId": "77ebfe3e-73bf-4933-c25f-edb6dc822dab"
      },
      "execution_count": 27,
      "outputs": [
        {
          "output_type": "stream",
          "name": "stdout",
          "text": [
            "1\n",
            "3\n",
            "5\n",
            "7\n",
            "9\n",
            "11\n",
            "13\n",
            "15\n",
            "17\n",
            "19\n",
            "21\n",
            "23\n",
            "25\n",
            "27\n",
            "29\n",
            "31\n",
            "33\n",
            "35\n",
            "37\n",
            "39\n",
            "41\n",
            "43\n",
            "45\n",
            "47\n",
            "49\n",
            "51\n",
            "53\n",
            "55\n",
            "57\n",
            "59\n",
            "61\n",
            "63\n",
            "65\n",
            "67\n",
            "69\n",
            "71\n",
            "73\n",
            "75\n",
            "77\n",
            "79\n",
            "81\n",
            "83\n",
            "85\n",
            "87\n",
            "89\n",
            "91\n",
            "93\n",
            "95\n",
            "97\n",
            "99\n"
          ]
        }
      ]
    },
    {
      "cell_type": "code",
      "source": [],
      "metadata": {
        "id": "Fo53dsyPWdvS"
      },
      "execution_count": null,
      "outputs": []
    },
    {
      "cell_type": "code",
      "source": [],
      "metadata": {
        "id": "nuzOGktDWdx-"
      },
      "execution_count": null,
      "outputs": []
    },
    {
      "cell_type": "code",
      "source": [],
      "metadata": {
        "id": "7fRUSOAxWd1H"
      },
      "execution_count": null,
      "outputs": []
    },
    {
      "cell_type": "code",
      "source": [],
      "metadata": {
        "id": "q8KddWprYZ60"
      },
      "execution_count": null,
      "outputs": []
    }
  ]
}