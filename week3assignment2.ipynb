{
  "nbformat": 4,
  "nbformat_minor": 0,
  "metadata": {
    "colab": {
      "provenance": [],
      "toc_visible": true
    },
    "kernelspec": {
      "name": "python3",
      "display_name": "Python 3"
    },
    "language_info": {
      "name": "python"
    }
  },
  "cells": [
    {
      "cell_type": "code",
      "execution_count": null,
      "metadata": {
        "id": "2S35duEwewMe"
      },
      "outputs": [],
      "source": [
        "# Qus-1.  Create a python program to sort the given list of tuples based on integer value using a lambda function."
      ]
    },
    {
      "cell_type": "code",
      "source": [
        "tup = [('Sachin Tendulkar', 34357), ('Ricky Ponting', 27483), ('Jack Kallis', 25534), ('Virat Kohli', 24936)]"
      ],
      "metadata": {
        "id": "EITGfsYblzeL"
      },
      "execution_count": null,
      "outputs": []
    },
    {
      "cell_type": "code",
      "source": [
        "def Sort_Tuple(tup):\n",
        "    tup.sort(key = lambda x: x[1])\n",
        "    return tup"
      ],
      "metadata": {
        "id": "IWPAkTs2e4VG"
      },
      "execution_count": null,
      "outputs": []
    },
    {
      "cell_type": "code",
      "source": [
        "print(Sort_Tuple(tup))"
      ],
      "metadata": {
        "colab": {
          "base_uri": "https://localhost:8080/"
        },
        "id": "Cd2VN7vBe4Xu",
        "outputId": "e7f6dd5b-75f6-4d33-9b87-4b2e73eff410"
      },
      "execution_count": null,
      "outputs": [
        {
          "output_type": "stream",
          "name": "stdout",
          "text": [
            "[('Virat Kohli', 24936), ('Jack Kallis', 25534), ('Ricky Ponting', 27483), ('Sachin Tendulkar', 34357)]\n"
          ]
        }
      ]
    },
    {
      "cell_type": "code",
      "source": [
        "# Qus-2. Write a Python Program to find the squares of all the numbers in the given list of integers using lambda and map functions.\n",
        "# [1, 2, 3, 4, 5, 6, 7, 8, 9, 10]"
      ],
      "metadata": {
        "id": "6q5zklrCe4co"
      },
      "execution_count": null,
      "outputs": []
    },
    {
      "cell_type": "code",
      "source": [
        "l = [1,2,3,4,5,6,7,8,9,10]"
      ],
      "metadata": {
        "id": "Qhpu_c53e4fA"
      },
      "execution_count": null,
      "outputs": []
    },
    {
      "cell_type": "code",
      "source": [
        "def sq(x):\n",
        "  return  x**2"
      ],
      "metadata": {
        "id": "CoRjFs3Te4hg"
      },
      "execution_count": null,
      "outputs": []
    },
    {
      "cell_type": "code",
      "source": [
        "list(map(sq,l))"
      ],
      "metadata": {
        "colab": {
          "base_uri": "https://localhost:8080/"
        },
        "id": "cS6KHRz3e4kC",
        "outputId": "a1aaa117-296b-44e6-a38b-04ee8c51e201"
      },
      "execution_count": null,
      "outputs": [
        {
          "output_type": "execute_result",
          "data": {
            "text/plain": [
              "[1, 4, 9, 16, 25, 36, 49, 64, 81, 100]"
            ]
          },
          "metadata": {},
          "execution_count": 6
        }
      ]
    },
    {
      "cell_type": "code",
      "source": [
        "# Qus-3. Write a python program to convert the given list of integers into a tuple of strings. Use map and lambda functions"
      ],
      "metadata": {
        "id": "xWbFLvqwe4mb"
      },
      "execution_count": null,
      "outputs": []
    },
    {
      "cell_type": "code",
      "source": [
        "list = [1,2,3,4,5,6,7,8,9,10]"
      ],
      "metadata": {
        "id": "_-1Sx-YBe4pB"
      },
      "execution_count": null,
      "outputs": []
    },
    {
      "cell_type": "code",
      "source": [
        "tuple(map(lambda x : str(x), list))"
      ],
      "metadata": {
        "colab": {
          "base_uri": "https://localhost:8080/"
        },
        "id": "vvrRTAS7e4rb",
        "outputId": "f9279b08-9936-4ccd-b767-1149314877b0"
      },
      "execution_count": null,
      "outputs": [
        {
          "output_type": "execute_result",
          "data": {
            "text/plain": [
              "('1', '2', '3', '4', '5', '6', '7', '8', '9', '10')"
            ]
          },
          "metadata": {},
          "execution_count": 14
        }
      ]
    },
    {
      "cell_type": "code",
      "source": [
        "# Qus-5. Write a python program using reduce function to compute the product of a list containing numbers from 1 to 25."
      ],
      "metadata": {
        "id": "R2LBGjIle4uK"
      },
      "execution_count": null,
      "outputs": []
    },
    {
      "cell_type": "code",
      "source": [
        "numbers = list(range(1, 25))\n"
      ],
      "metadata": {
        "id": "TSoatz9Ae41k"
      },
      "execution_count": null,
      "outputs": []
    },
    {
      "cell_type": "code",
      "source": [
        "def multiply(x, y):\n",
        "    return x * y"
      ],
      "metadata": {
        "id": "XNkGkPV7R0Ju"
      },
      "execution_count": null,
      "outputs": []
    },
    {
      "cell_type": "code",
      "source": [
        "result = reduce(multiply, numbers)\n"
      ],
      "metadata": {
        "id": "mjsZFBsSe46t"
      },
      "execution_count": null,
      "outputs": []
    },
    {
      "cell_type": "code",
      "source": [
        "result"
      ],
      "metadata": {
        "id": "-7y9XEcVe49U",
        "colab": {
          "base_uri": "https://localhost:8080/"
        },
        "outputId": "252b3e2e-060e-46f6-f216-240d9726252a"
      },
      "execution_count": null,
      "outputs": [
        {
          "output_type": "execute_result",
          "data": {
            "text/plain": [
              "620448401733239439360000"
            ]
          },
          "metadata": {},
          "execution_count": 25
        }
      ]
    },
    {
      "cell_type": "code",
      "source": [
        "# Qus-6. Write a python program to filter the numbers in a given list that are divisible by 2 and 3 using the filter function.\n",
        "#    [2, 3, 6, 9, 27, 60, 90, 120, 55, 46]"
      ],
      "metadata": {
        "id": "tsM5ylH1e4_1"
      },
      "execution_count": null,
      "outputs": []
    },
    {
      "cell_type": "code",
      "source": [
        "l = [2, 3, 6, 9, 27, 60, 90, 120, 55, 46]"
      ],
      "metadata": {
        "id": "HHy0R1m9e5Ce"
      },
      "execution_count": 64,
      "outputs": []
    },
    {
      "cell_type": "code",
      "source": [
        "filter(lambda x :  x%2 == 0 or x%3 ==0 , l)"
      ],
      "metadata": {
        "id": "w8_emq4Re5FO"
      },
      "execution_count": null,
      "outputs": []
    },
    {
      "cell_type": "code",
      "source": [
        "# Qus-7.  Write a python program to find palindromes in the given list of strings using lambda and filter function.\n",
        "#  ['python', 'php', 'aba', 'radar', 'level']"
      ],
      "metadata": {
        "id": "ZQomI_Goe5H2"
      },
      "execution_count": null,
      "outputs": []
    },
    {
      "cell_type": "code",
      "source": [
        "k = ['python', 'php', 'aba', 'radar', 'level']"
      ],
      "metadata": {
        "id": "qbtXIm7Re5Ke"
      },
      "execution_count": 65,
      "outputs": []
    },
    {
      "cell_type": "code",
      "source": [
        "list(filter(lambda x : x == x[::-1], k))"
      ],
      "metadata": {
        "id": "1W6mnTFoe5NI"
      },
      "execution_count": null,
      "outputs": []
    },
    {
      "cell_type": "code",
      "source": [],
      "metadata": {
        "id": "VwfEo5sae5Sq"
      },
      "execution_count": null,
      "outputs": []
    },
    {
      "cell_type": "code",
      "source": [],
      "metadata": {
        "id": "RjFl8-tne5f4"
      },
      "execution_count": null,
      "outputs": []
    },
    {
      "cell_type": "code",
      "source": [],
      "metadata": {
        "id": "45katiuNe5iR"
      },
      "execution_count": null,
      "outputs": []
    },
    {
      "cell_type": "code",
      "source": [],
      "metadata": {
        "id": "V1dd5hCxe5lT"
      },
      "execution_count": null,
      "outputs": []
    },
    {
      "cell_type": "code",
      "source": [],
      "metadata": {
        "id": "cO519nole5p5"
      },
      "execution_count": null,
      "outputs": []
    },
    {
      "cell_type": "code",
      "source": [],
      "metadata": {
        "id": "kVLQMnNZe5tc"
      },
      "execution_count": null,
      "outputs": []
    }
  ]
}